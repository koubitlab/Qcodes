{
 "cells": [
  {
   "cell_type": "markdown",
   "id": "plain-primary",
   "metadata": {},
   "source": [
    "# Qcodes example with DelegateInstrument driver\n",
    "\n",
    "This notebooks explains how to use the `DelegateInstrument` driver.\n",
    "\n",
    "## About\n",
    "The goal of the `DelegateInstrument` driver is to make it easier to combine different parameters together into a new \"virtual\" instrument. Each parameter on a `DelegateInstrument` can point to one or more parameters on other instruments in the station.\n",
    "\n",
    "## Usage\n",
    "The way it's used is mainly by specifying an entry in the station YAML. For instance, let's say you want to use a magnetic field coil. The driver has a method set_field(value, block), that by default is set to block=True, which means the field is ramped in a way that blocks further execution until the desired value is reached. However, let's say you are creating a measurement in which you want the parameter to be set, and while the value is ramping, you want to measure other parameters. This can be done by using `DelegateInstrument` and specifying a custom `setter` for the parameter that gets and sets the magnetic field.\n",
    "\n",
    "By default, each parameter is represented by a `DelegateParameter`. The `DelegateInstrument` also supports passing multiple source parameters to a given parameter. In order to do this, simply specify multiple parameters in the dictionary values  under the `parameters` key.\n",
    "\n",
    "It can also add instrument channels, specified under a separate key `channels`, shown in the second half of the notebook."
   ]
  },
  {
   "cell_type": "code",
   "execution_count": 1,
   "id": "sapphire-quebec",
   "metadata": {
    "execution": {
     "iopub.execute_input": "2021-09-22T14:03:50.196567Z",
     "iopub.status.busy": "2021-09-22T14:03:50.196008Z",
     "iopub.status.idle": "2021-09-22T14:03:50.206905Z",
     "shell.execute_reply": "2021-09-22T14:03:50.207355Z"
    }
   },
   "outputs": [
    {
     "name": "stdout",
     "output_type": "stream",
     "text": [
      "Writing example.yaml\n"
     ]
    }
   ],
   "source": [
    "%%writefile example.yaml\n",
    "\n",
    "instruments:\n",
    "  field_X:\n",
    "    type: qcodes.tests.instrument_mocks.MockField\n",
    "\n",
    "  field:\n",
    "    type: qcodes.instrument.delegate.DelegateInstrument\n",
    "    init:\n",
    "      parameters:\n",
    "        X:\n",
    "          - field_X.field\n",
    "        ramp_rate:\n",
    "          - field_X.ramp_rate\n",
    "        combined:\n",
    "          - field_X.field\n",
    "          - field_X.ramp_rate\n",
    "      set_initial_values_on_load: true\n",
    "      initial_values:\n",
    "        ramp_rate: 1.0\n",
    "      setters:\n",
    "        X:\n",
    "          method: field_X.set_field\n",
    "          block: false"
   ]
  },
  {
   "cell_type": "code",
   "execution_count": 2,
   "id": "younger-newspaper",
   "metadata": {
    "execution": {
     "iopub.execute_input": "2021-09-22T14:03:50.211502Z",
     "iopub.status.busy": "2021-09-22T14:03:50.210918Z",
     "iopub.status.idle": "2021-09-22T14:03:51.309767Z",
     "shell.execute_reply": "2021-09-22T14:03:51.309214Z"
    }
   },
   "outputs": [
    {
     "name": "stdout",
     "output_type": "stream",
     "text": [
      "Logging hadn't been started.\n",
      "Activating auto-logging. Current session state plus future input saved.\n",
      "Filename       : /home/runner/.qcodes/logs/command_history.log\n",
      "Mode           : append\n",
      "Output logging : True\n",
      "Raw input log  : False\n",
      "Timestamping   : True\n",
      "State          : active\n"
     ]
    },
    {
     "name": "stdout",
     "output_type": "stream",
     "text": [
      "Qcodes Logfile : /home/runner/.qcodes/logs/210922-10621-qcodes.log\n"
     ]
    }
   ],
   "source": [
    "import qcodes as qc"
   ]
  },
  {
   "cell_type": "code",
   "execution_count": 3,
   "id": "muslim-briefs",
   "metadata": {
    "execution": {
     "iopub.execute_input": "2021-09-22T14:03:51.322294Z",
     "iopub.status.busy": "2021-09-22T14:03:51.314109Z",
     "iopub.status.idle": "2021-09-22T14:03:51.328314Z",
     "shell.execute_reply": "2021-09-22T14:03:51.327452Z"
    }
   },
   "outputs": [],
   "source": [
    "station = qc.Station(config_file=\"example.yaml\")"
   ]
  },
  {
   "cell_type": "code",
   "execution_count": 4,
   "id": "greatest-antenna",
   "metadata": {
    "execution": {
     "iopub.execute_input": "2021-09-22T14:03:51.332703Z",
     "iopub.status.busy": "2021-09-22T14:03:51.332185Z",
     "iopub.status.idle": "2021-09-22T14:03:51.358281Z",
     "shell.execute_reply": "2021-09-22T14:03:51.357774Z"
    }
   },
   "outputs": [],
   "source": [
    "field_X = station.load_field_X()\n",
    "field = station.load_field(station=station)"
   ]
  },
  {
   "cell_type": "code",
   "execution_count": 5,
   "id": "every-playing",
   "metadata": {
    "execution": {
     "iopub.execute_input": "2021-09-22T14:03:51.370514Z",
     "iopub.status.busy": "2021-09-22T14:03:51.369442Z",
     "iopub.status.idle": "2021-09-22T14:03:51.372585Z",
     "shell.execute_reply": "2021-09-22T14:03:51.372131Z"
    }
   },
   "outputs": [
    {
     "data": {
      "text/plain": [
       "0.0"
      ]
     },
     "execution_count": 5,
     "metadata": {},
     "output_type": "execute_result"
    }
   ],
   "source": [
    "field.X()"
   ]
  },
  {
   "cell_type": "code",
   "execution_count": 6,
   "id": "undefined-worst",
   "metadata": {
    "execution": {
     "iopub.execute_input": "2021-09-22T14:03:51.376702Z",
     "iopub.status.busy": "2021-09-22T14:03:51.376168Z",
     "iopub.status.idle": "2021-09-22T14:03:51.378700Z",
     "shell.execute_reply": "2021-09-22T14:03:51.378181Z"
    }
   },
   "outputs": [],
   "source": [
    "field.X(1.)"
   ]
  },
  {
   "cell_type": "code",
   "execution_count": 7,
   "id": "recreational-suggestion",
   "metadata": {
    "execution": {
     "iopub.execute_input": "2021-09-22T14:03:51.383843Z",
     "iopub.status.busy": "2021-09-22T14:03:51.383329Z",
     "iopub.status.idle": "2021-09-22T14:03:51.385699Z",
     "shell.execute_reply": "2021-09-22T14:03:51.386090Z"
    }
   },
   "outputs": [
    {
     "data": {
      "text/plain": [
       "9.704828262329102e-05"
      ]
     },
     "execution_count": 7,
     "metadata": {},
     "output_type": "execute_result"
    }
   ],
   "source": [
    "field.X()"
   ]
  },
  {
   "cell_type": "code",
   "execution_count": 8,
   "id": "adopted-exchange",
   "metadata": {
    "execution": {
     "iopub.execute_input": "2021-09-22T14:03:51.391599Z",
     "iopub.status.busy": "2021-09-22T14:03:51.390688Z",
     "iopub.status.idle": "2021-09-22T14:03:51.393135Z",
     "shell.execute_reply": "2021-09-22T14:03:51.393530Z"
    }
   },
   "outputs": [
    {
     "data": {
      "text/plain": [
       "0.00021978219350179037"
      ]
     },
     "execution_count": 8,
     "metadata": {},
     "output_type": "execute_result"
    }
   ],
   "source": [
    "field.X()"
   ]
  },
  {
   "cell_type": "code",
   "execution_count": 9,
   "id": "bound-broadcasting",
   "metadata": {
    "execution": {
     "iopub.execute_input": "2021-09-22T14:03:51.399304Z",
     "iopub.status.busy": "2021-09-22T14:03:51.398382Z",
     "iopub.status.idle": "2021-09-22T14:03:51.400926Z",
     "shell.execute_reply": "2021-09-22T14:03:51.401318Z"
    }
   },
   "outputs": [
    {
     "data": {
      "text/plain": [
       "0.00034528573354085287"
      ]
     },
     "execution_count": 9,
     "metadata": {},
     "output_type": "execute_result"
    }
   ],
   "source": [
    "field.X()"
   ]
  },
  {
   "cell_type": "code",
   "execution_count": 10,
   "id": "casual-ghost",
   "metadata": {
    "execution": {
     "iopub.execute_input": "2021-09-22T14:03:51.406543Z",
     "iopub.status.busy": "2021-09-22T14:03:51.406010Z",
     "iopub.status.idle": "2021-09-22T14:03:51.408460Z",
     "shell.execute_reply": "2021-09-22T14:03:51.408856Z"
    }
   },
   "outputs": [
    {
     "data": {
      "text/plain": [
       "0.0004747867584228516"
      ]
     },
     "execution_count": 10,
     "metadata": {},
     "output_type": "execute_result"
    }
   ],
   "source": [
    "field.X()"
   ]
  },
  {
   "cell_type": "markdown",
   "id": "alike-process",
   "metadata": {},
   "source": [
    "As you can see, the field is now ramped in the background with the specified ramp rate. Now, let's try to create a measurement that uses this ability, and ramps the field in the background while measuring:"
   ]
  },
  {
   "cell_type": "code",
   "execution_count": 11,
   "id": "sustained-tiger",
   "metadata": {
    "execution": {
     "iopub.execute_input": "2021-09-22T14:03:51.412741Z",
     "iopub.status.busy": "2021-09-22T14:03:51.412246Z",
     "iopub.status.idle": "2021-09-22T14:03:51.417617Z",
     "shell.execute_reply": "2021-09-22T14:03:51.417170Z"
    }
   },
   "outputs": [],
   "source": [
    "field.ramp_rate(10.)\n",
    "field_X.field(0.0)"
   ]
  },
  {
   "cell_type": "code",
   "execution_count": 12,
   "id": "pharmaceutical-partition",
   "metadata": {
    "execution": {
     "iopub.execute_input": "2021-09-22T14:03:51.422574Z",
     "iopub.status.busy": "2021-09-22T14:03:51.422045Z",
     "iopub.status.idle": "2021-09-22T14:03:51.424043Z",
     "shell.execute_reply": "2021-09-22T14:03:51.424440Z"
    }
   },
   "outputs": [
    {
     "data": {
      "text/plain": [
       "0.0"
      ]
     },
     "execution_count": 12,
     "metadata": {},
     "output_type": "execute_result"
    }
   ],
   "source": [
    "field.X()"
   ]
  },
  {
   "cell_type": "code",
   "execution_count": 13,
   "id": "happy-ordinance",
   "metadata": {
    "execution": {
     "iopub.execute_input": "2021-09-22T14:03:51.430255Z",
     "iopub.status.busy": "2021-09-22T14:03:51.426628Z",
     "iopub.status.idle": "2021-09-22T14:03:52.663744Z",
     "shell.execute_reply": "2021-09-22T14:03:52.663214Z"
    }
   },
   "outputs": [
    {
     "name": "stdout",
     "output_type": "stream",
     "text": [
      "Starting experimental run with id: 60. \n"
     ]
    }
   ],
   "source": [
    "import time\n",
    "meas = qc.Measurement(station=station)\n",
    "meas.register_parameter(field.X)\n",
    "\n",
    "with meas.run() as datasaver:\n",
    "    for B in [0.1, 0.0]:\n",
    "        field.X(B)\n",
    "        while field.X() != B:\n",
    "            datasaver.add_result((field.X, field.X()))\n",
    "            time.sleep(0.01)\n",
    "    datasaver.flush_data_to_database()"
   ]
  },
  {
   "cell_type": "code",
   "execution_count": 14,
   "id": "short-medium",
   "metadata": {
    "execution": {
     "iopub.execute_input": "2021-09-22T14:03:52.668119Z",
     "iopub.status.busy": "2021-09-22T14:03:52.667596Z",
     "iopub.status.idle": "2021-09-22T14:03:53.070651Z",
     "shell.execute_reply": "2021-09-22T14:03:53.070168Z"
    }
   },
   "outputs": [
    {
     "data": {
      "text/plain": [
       "<AxesSubplot:>"
      ]
     },
     "execution_count": 14,
     "metadata": {},
     "output_type": "execute_result"
    },
    {
     "data": {
      "image/png": "[encoded data removed]",
      "text/plain": [
       "<Figure size 432x288 with 1 Axes>"
      ]
     },
     "metadata": {
      "needs_background": "light"
     },
     "output_type": "display_data"
    }
   ],
   "source": [
    "datasaver.dataset.to_pandas_dataframe().plot()"
   ]
  },
  {
   "cell_type": "markdown",
   "id": "incomplete-vietnamese",
   "metadata": {},
   "source": [
    "When specifying multiple source parameters on a given parameter, the grouped parameter will automatically return a `namedtuple` that returns both values."
   ]
  },
  {
   "cell_type": "code",
   "execution_count": 15,
   "id": "dangerous-finder",
   "metadata": {
    "execution": {
     "iopub.execute_input": "2021-09-22T14:03:53.075943Z",
     "iopub.status.busy": "2021-09-22T14:03:53.075407Z",
     "iopub.status.idle": "2021-09-22T14:03:53.080604Z",
     "shell.execute_reply": "2021-09-22T14:03:53.080142Z"
    }
   },
   "outputs": [
    {
     "data": {
      "text/plain": [
       "combined(field=0.0, ramp_rate=10.0)"
      ]
     },
     "execution_count": 15,
     "metadata": {},
     "output_type": "execute_result"
    }
   ],
   "source": [
    "field.combined()"
   ]
  },
  {
   "cell_type": "markdown",
   "id": "consolidated-cooper",
   "metadata": {},
   "source": [
    "We can now also create a custom parameter that does a simple calculation based on the current parameters."
   ]
  },
  {
   "cell_type": "code",
   "execution_count": 16,
   "id": "designed-bloom",
   "metadata": {
    "execution": {
     "iopub.execute_input": "2021-09-22T14:03:53.086137Z",
     "iopub.status.busy": "2021-09-22T14:03:53.083181Z",
     "iopub.status.idle": "2021-09-22T14:03:53.088578Z",
     "shell.execute_reply": "2021-09-22T14:03:53.088994Z"
    }
   },
   "outputs": [],
   "source": [
    "import numpy as np\n",
    "\n",
    "def calculate_ramp_time(X, ramp_rate):\n",
    "    \"\"\"Calculate ramp time in seconds\"\"\"\n",
    "    dfield = np.abs(field.target_field - X)\n",
    "    return 60. * dfield/ramp_rate"
   ]
  },
  {
   "cell_type": "code",
   "execution_count": 17,
   "id": "disabled-logic",
   "metadata": {
    "execution": {
     "iopub.execute_input": "2021-09-22T14:03:53.093114Z",
     "iopub.status.busy": "2021-09-22T14:03:53.092439Z",
     "iopub.status.idle": "2021-09-22T14:03:53.096522Z",
     "shell.execute_reply": "2021-09-22T14:03:53.097163Z"
    },
    "scrolled": true
   },
   "outputs": [],
   "source": [
    "field._create_and_add_parameter(\n",
    "    group_name=\"ramp_time\",\n",
    "    station=station,\n",
    "    paths=[\"field_X.field\", \"field_X.ramp_rate\"],\n",
    "    formatter=calculate_ramp_time\n",
    ")"
   ]
  },
  {
   "cell_type": "code",
   "execution_count": 18,
   "id": "adverse-february",
   "metadata": {
    "execution": {
     "iopub.execute_input": "2021-09-22T14:03:53.101277Z",
     "iopub.status.busy": "2021-09-22T14:03:53.099595Z",
     "iopub.status.idle": "2021-09-22T14:03:53.107387Z",
     "shell.execute_reply": "2021-09-22T14:03:53.106887Z"
    }
   },
   "outputs": [
    {
     "data": {
      "text/plain": [
       "6.0"
      ]
     },
     "execution_count": 18,
     "metadata": {},
     "output_type": "execute_result"
    }
   ],
   "source": [
    "field.ramp_rate(1.0)\n",
    "field.target_field = 0.1\n",
    "field.ramp_time()"
   ]
  },
  {
   "cell_type": "code",
   "execution_count": 19,
   "id": "statutory-xerox",
   "metadata": {
    "execution": {
     "iopub.execute_input": "2021-09-22T14:03:53.112047Z",
     "iopub.status.busy": "2021-09-22T14:03:53.110642Z",
     "iopub.status.idle": "2021-09-22T14:03:53.115058Z",
     "shell.execute_reply": "2021-09-22T14:03:53.114371Z"
    }
   },
   "outputs": [],
   "source": [
    "field.X(0.1)"
   ]
  },
  {
   "cell_type": "code",
   "execution_count": 20,
   "id": "varying-auditor",
   "metadata": {
    "execution": {
     "iopub.execute_input": "2021-09-22T14:03:53.120297Z",
     "iopub.status.busy": "2021-09-22T14:03:53.118292Z",
     "iopub.status.idle": "2021-09-22T14:03:53.124739Z",
     "shell.execute_reply": "2021-09-22T14:03:53.124284Z"
    }
   },
   "outputs": [
    {
     "data": {
      "text/plain": [
       "5.992436408996582"
      ]
     },
     "execution_count": 20,
     "metadata": {},
     "output_type": "execute_result"
    }
   ],
   "source": [
    "field.ramp_time()"
   ]
  },
  {
   "cell_type": "code",
   "execution_count": 21,
   "id": "chubby-nickel",
   "metadata": {
    "execution": {
     "iopub.execute_input": "2021-09-22T14:03:53.128908Z",
     "iopub.status.busy": "2021-09-22T14:03:53.128398Z",
     "iopub.status.idle": "2021-09-22T14:03:54.135908Z",
     "shell.execute_reply": "2021-09-22T14:03:54.135418Z"
    }
   },
   "outputs": [
    {
     "data": {
      "text/plain": [
       "4.98217511177063"
      ]
     },
     "execution_count": 21,
     "metadata": {},
     "output_type": "execute_result"
    }
   ],
   "source": [
    "import time\n",
    "time.sleep(1.)\n",
    "field.ramp_time()"
   ]
  },
  {
   "cell_type": "code",
   "execution_count": 22,
   "id": "italian-liberty",
   "metadata": {
    "execution": {
     "iopub.execute_input": "2021-09-22T14:03:54.140385Z",
     "iopub.status.busy": "2021-09-22T14:03:54.139656Z",
     "iopub.status.idle": "2021-09-22T14:03:55.147393Z",
     "shell.execute_reply": "2021-09-22T14:03:55.146814Z"
    }
   },
   "outputs": [
    {
     "data": {
      "text/plain": [
       "3.9708175659179696"
      ]
     },
     "execution_count": 22,
     "metadata": {},
     "output_type": "execute_result"
    }
   ],
   "source": [
    "import time\n",
    "time.sleep(1.)\n",
    "field.ramp_time()"
   ]
  },
  {
   "cell_type": "markdown",
   "id": "4c52a812",
   "metadata": {},
   "source": [
    "# Devices with channels"
   ]
  },
  {
   "cell_type": "markdown",
   "id": "6ec10091",
   "metadata": {},
   "source": [
    "The YAML file below specifies the instruments with the channels/parameters we wish to group into a new instrument, here called \"device\". The first example simply adds the channel 'as is' using self.add_submodule, while the readout parameter is added as a DelegateParameter."
   ]
  },
  {
   "cell_type": "code",
   "execution_count": 23,
   "id": "cb63b969",
   "metadata": {
    "execution": {
     "iopub.execute_input": "2021-09-22T14:03:55.153123Z",
     "iopub.status.busy": "2021-09-22T14:03:55.151928Z",
     "iopub.status.idle": "2021-09-22T14:03:55.155071Z",
     "shell.execute_reply": "2021-09-22T14:03:55.155462Z"
    }
   },
   "outputs": [
    {
     "name": "stdout",
     "output_type": "stream",
     "text": [
      "Overwriting example.yaml\n"
     ]
    }
   ],
   "source": [
    "%%writefile example.yaml\n",
    "\n",
    "instruments:\n",
    "  lockin:\n",
    "    type: qcodes.tests.instrument_mocks.MockLockin\n",
    "\n",
    "  dac:\n",
    "    type: qcodes.tests.instrument_mocks.MockDAC   \n",
    "\n",
    "  device:\n",
    "    type: qcodes.instrument.delegate.DelegateInstrument\n",
    "    init:\n",
    "      parameters:\n",
    "        readout: lockin.X\n",
    "      channels:\n",
    "        gate_1: dac.ch01\n",
    "      set_initial_values_on_load: true\n",
    "      initial_values:\n",
    "        readout: 1e-5\n",
    "        gate_1.voltage.post_delay: 0.01"
   ]
  },
  {
   "cell_type": "code",
   "execution_count": 24,
   "id": "ecc4a29d",
   "metadata": {
    "execution": {
     "iopub.execute_input": "2021-09-22T14:03:55.159260Z",
     "iopub.status.busy": "2021-09-22T14:03:55.158717Z",
     "iopub.status.idle": "2021-09-22T14:03:55.171104Z",
     "shell.execute_reply": "2021-09-22T14:03:55.170603Z"
    }
   },
   "outputs": [],
   "source": [
    "station = qc.Station(config_file=\"example.yaml\")"
   ]
  },
  {
   "cell_type": "code",
   "execution_count": 25,
   "id": "426d87cf",
   "metadata": {
    "execution": {
     "iopub.execute_input": "2021-09-22T14:03:55.175769Z",
     "iopub.status.busy": "2021-09-22T14:03:55.175212Z",
     "iopub.status.idle": "2021-09-22T14:03:55.211219Z",
     "shell.execute_reply": "2021-09-22T14:03:55.210637Z"
    }
   },
   "outputs": [],
   "source": [
    "lockin = station.load_lockin()\n",
    "dac = station.load_dac()\n",
    "device = station.load_device(station=station)"
   ]
  },
  {
   "cell_type": "code",
   "execution_count": 26,
   "id": "ac5321ea",
   "metadata": {
    "execution": {
     "iopub.execute_input": "2021-09-22T14:03:55.217320Z",
     "iopub.status.busy": "2021-09-22T14:03:55.216118Z",
     "iopub.status.idle": "2021-09-22T14:03:55.219067Z",
     "shell.execute_reply": "2021-09-22T14:03:55.218596Z"
    }
   },
   "outputs": [
    {
     "name": "stdout",
     "output_type": "stream",
     "text": [
      "<MockDACChannel: dac_ch01 of MockDAC: dac>\n",
      "0.01\n"
     ]
    }
   ],
   "source": [
    "print(device.gate_1)\n",
    "print(device.gate_1.voltage.post_delay)"
   ]
  },
  {
   "cell_type": "code",
   "execution_count": 27,
   "id": "453525f5",
   "metadata": {
    "execution": {
     "iopub.execute_input": "2021-09-22T14:03:55.223395Z",
     "iopub.status.busy": "2021-09-22T14:03:55.222850Z",
     "iopub.status.idle": "2021-09-22T14:03:55.239884Z",
     "shell.execute_reply": "2021-09-22T14:03:55.239433Z"
    }
   },
   "outputs": [
    {
     "name": "stdout",
     "output_type": "stream",
     "text": [
      "0.0\n"
     ]
    },
    {
     "data": {
      "text/plain": [
       "-0.6"
      ]
     },
     "execution_count": 27,
     "metadata": {},
     "output_type": "execute_result"
    }
   ],
   "source": [
    "print(device.gate_1.voltage())\n",
    "device.gate_1.voltage(-0.6)\n",
    "device.gate_1.voltage()"
   ]
  },
  {
   "cell_type": "markdown",
   "id": "762964a0",
   "metadata": {},
   "source": [
    "The second example adds a channel using a custom channel class, which takes the initial channel and its name as input and has a parameter current_valid_ranges."
   ]
  },
  {
   "cell_type": "code",
   "execution_count": 28,
   "id": "32b45a64",
   "metadata": {
    "execution": {
     "iopub.execute_input": "2021-09-22T14:03:55.244637Z",
     "iopub.status.busy": "2021-09-22T14:03:55.244115Z",
     "iopub.status.idle": "2021-09-22T14:03:55.249286Z",
     "shell.execute_reply": "2021-09-22T14:03:55.248854Z"
    }
   },
   "outputs": [
    {
     "name": "stdout",
     "output_type": "stream",
     "text": [
      "Overwriting example.yaml\n"
     ]
    }
   ],
   "source": [
    "%%writefile example.yaml\n",
    "\n",
    "instruments:\n",
    "  lockin:\n",
    "    type: qcodes.tests.instrument_mocks.MockLockin\n",
    "\n",
    "  dac:\n",
    "    type: qcodes.tests.instrument_mocks.MockDAC   \n",
    "\n",
    "  device:\n",
    "    type: qcodes.instrument.delegate.DelegateInstrument\n",
    "    init:\n",
    "      parameters:\n",
    "        readout: lockin.X\n",
    "      channels:\n",
    "        type: qcodes.tests.instrument_mocks.MockCustomChannel\n",
    "        gate_1: \n",
    "          channel: dac.ch01\n",
    "          current_valid_range: [-0.5, 0]\n",
    "      set_initial_values_on_load: true\n",
    "      initial_values:\n",
    "        readout: 1e-5"
   ]
  },
  {
   "cell_type": "code",
   "execution_count": 29,
   "id": "bad55a3c",
   "metadata": {
    "execution": {
     "iopub.execute_input": "2021-09-22T14:03:55.252761Z",
     "iopub.status.busy": "2021-09-22T14:03:55.252273Z",
     "iopub.status.idle": "2021-09-22T14:03:55.256487Z",
     "shell.execute_reply": "2021-09-22T14:03:55.256056Z"
    }
   },
   "outputs": [],
   "source": [
    "lockin.close()\n",
    "dac.close()"
   ]
  },
  {
   "cell_type": "code",
   "execution_count": 30,
   "id": "58ec7a1c",
   "metadata": {
    "execution": {
     "iopub.execute_input": "2021-09-22T14:03:55.260669Z",
     "iopub.status.busy": "2021-09-22T14:03:55.260155Z",
     "iopub.status.idle": "2021-09-22T14:03:55.299476Z",
     "shell.execute_reply": "2021-09-22T14:03:55.298473Z"
    }
   },
   "outputs": [],
   "source": [
    "station = qc.Station(config_file=\"example.yaml\")\n",
    "lockin = station.load_lockin()\n",
    "dac = station.load_dac()"
   ]
  },
  {
   "cell_type": "code",
   "execution_count": 31,
   "id": "5ed100f1",
   "metadata": {
    "execution": {
     "iopub.execute_input": "2021-09-22T14:03:55.303664Z",
     "iopub.status.busy": "2021-09-22T14:03:55.303154Z",
     "iopub.status.idle": "2021-09-22T14:03:55.317433Z",
     "shell.execute_reply": "2021-09-22T14:03:55.316951Z"
    }
   },
   "outputs": [],
   "source": [
    "device = station.load_device(station=station)"
   ]
  },
  {
   "cell_type": "code",
   "execution_count": 32,
   "id": "ad1e461b",
   "metadata": {
    "execution": {
     "iopub.execute_input": "2021-09-22T14:03:55.322630Z",
     "iopub.status.busy": "2021-09-22T14:03:55.321756Z",
     "iopub.status.idle": "2021-09-22T14:03:55.327397Z",
     "shell.execute_reply": "2021-09-22T14:03:55.326879Z"
    }
   },
   "outputs": [
    {
     "data": {
      "text/plain": [
       "<MockCustomChannel: dac_gate_1 of MockDAC: dac>"
      ]
     },
     "execution_count": 32,
     "metadata": {},
     "output_type": "execute_result"
    }
   ],
   "source": [
    "device.gate_1"
   ]
  },
  {
   "cell_type": "code",
   "execution_count": 33,
   "id": "59861b0b",
   "metadata": {
    "execution": {
     "iopub.execute_input": "2021-09-22T14:03:55.332032Z",
     "iopub.status.busy": "2021-09-22T14:03:55.330589Z",
     "iopub.status.idle": "2021-09-22T14:03:55.334978Z",
     "shell.execute_reply": "2021-09-22T14:03:55.334514Z"
    }
   },
   "outputs": [],
   "source": [
    "device.gate_1.voltage(-0.3)"
   ]
  },
  {
   "cell_type": "code",
   "execution_count": 34,
   "id": "6e57e591",
   "metadata": {
    "execution": {
     "iopub.execute_input": "2021-09-22T14:03:55.339881Z",
     "iopub.status.busy": "2021-09-22T14:03:55.339352Z",
     "iopub.status.idle": "2021-09-22T14:03:55.344805Z",
     "shell.execute_reply": "2021-09-22T14:03:55.343854Z"
    }
   },
   "outputs": [
    {
     "data": {
      "text/plain": [
       "-0.3"
      ]
     },
     "execution_count": 34,
     "metadata": {},
     "output_type": "execute_result"
    }
   ],
   "source": [
    "device.gate_1.voltage()"
   ]
  },
  {
   "cell_type": "markdown",
   "id": "f18557a2",
   "metadata": {},
   "source": [
    "The MockCustomChannel has a parameter `current_valid_range`."
   ]
  },
  {
   "cell_type": "code",
   "execution_count": 35,
   "id": "fe0badbc",
   "metadata": {
    "execution": {
     "iopub.execute_input": "2021-09-22T14:03:55.349630Z",
     "iopub.status.busy": "2021-09-22T14:03:55.349133Z",
     "iopub.status.idle": "2021-09-22T14:03:55.353871Z",
     "shell.execute_reply": "2021-09-22T14:03:55.353438Z"
    }
   },
   "outputs": [
    {
     "data": {
      "text/plain": [
       "[-0.5, 0]"
      ]
     },
     "execution_count": 35,
     "metadata": {},
     "output_type": "execute_result"
    }
   ],
   "source": [
    "device.gate_1.current_valid_range()"
   ]
  }
 ],
 "metadata": {
  "kernelspec": {
   "display_name": "Python 3.7.9 64-bit ('qcodes_fork': conda)",
   "name": "python379jvsc74a57bd02b540bc2d5f6bd8c1d4c354bd6559a26f5871610d8f84463e1d37eff37c7ba44"
  },
  "language_info": {
   "codemirror_mode": {
    "name": "ipython",
    "version": 3
   },
   "file_extension": ".py",
   "mimetype": "text/x-python",
   "name": "python",
   "nbconvert_exporter": "python",
   "pygments_lexer": "ipython3",
   "version": "3.7.12"
  }
 },
 "nbformat": 4,
 "nbformat_minor": 5
}
