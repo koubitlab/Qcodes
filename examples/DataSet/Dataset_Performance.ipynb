{
 "cells": [
  {
   "cell_type": "markdown",
   "metadata": {},
   "source": [
    "# DataSet Performance\n",
    "\n",
    "This notebook shows the trade-off between inserting data into a database row-by-row and as binary blobs. Inserting the data row-by-row means that we have direct access to all the data and may perform queries directly on the values of the data. On the other hand, as we shall see, this is much slower than inserting the data directly as binary blobs."
   ]
  },
  {
   "cell_type": "markdown",
   "metadata": {},
   "source": [
    "First, we choose a new location for the database to ensure that we don't add a bunch of benchmarking data to the default one."
   ]
  },
  {
   "cell_type": "code",
   "execution_count": 1,
   "metadata": {
    "execution": {
     "iopub.execute_input": "2021-09-22T13:57:25.220565Z",
     "iopub.status.busy": "2021-09-22T13:57:25.219962Z",
     "iopub.status.idle": "2021-09-22T13:57:26.366489Z",
     "shell.execute_reply": "2021-09-22T13:57:26.366993Z"
    }
   },
   "outputs": [
    {
     "name": "stdout",
     "output_type": "stream",
     "text": [
      "Logging hadn't been started.\n",
      "Activating auto-logging. Current session state plus future input saved.\n",
      "Filename       : /home/runner/.qcodes/logs/command_history.log\n",
      "Mode           : append\n",
      "Output logging : True\n",
      "Raw input log  : False\n",
      "Timestamping   : True\n",
      "State          : active\n"
     ]
    },
    {
     "name": "stdout",
     "output_type": "stream",
     "text": [
      "Qcodes Logfile : /home/runner/.qcodes/logs/210922-5305-qcodes.log\n"
     ]
    }
   ],
   "source": [
    "import os\n",
    "cwd = os.getcwd()\n",
    "import qcodes as qc\n",
    "qc.config[\"core\"][\"db_location\"] = os.path.join(cwd, 'testing.db')\n"
   ]
  },
  {
   "cell_type": "code",
   "execution_count": 2,
   "metadata": {
    "execution": {
     "iopub.execute_input": "2021-09-22T13:57:26.370826Z",
     "iopub.status.busy": "2021-09-22T13:57:26.370184Z",
     "iopub.status.idle": "2021-09-22T13:57:26.649742Z",
     "shell.execute_reply": "2021-09-22T13:57:26.650228Z"
    }
   },
   "outputs": [],
   "source": [
    "%matplotlib inline\n",
    "import time\n",
    "import matplotlib.pyplot as plt\n",
    "import numpy as np\n",
    "\n",
    "import qcodes as qc\n",
    "from qcodes.instrument.parameter import ManualParameter\n",
    "from qcodes.dataset.experiment_container import (Experiment,\n",
    "                                                 load_last_experiment,\n",
    "                                                 new_experiment)\n",
    "from qcodes.dataset.sqlite.database import initialise_database\n",
    "from qcodes import load_or_create_experiment\n",
    "from qcodes.dataset.measurements import Measurement"
   ]
  },
  {
   "cell_type": "code",
   "execution_count": 3,
   "metadata": {
    "execution": {
     "iopub.execute_input": "2021-09-22T13:57:26.655121Z",
     "iopub.status.busy": "2021-09-22T13:57:26.654429Z",
     "iopub.status.idle": "2021-09-22T13:57:26.749502Z",
     "shell.execute_reply": "2021-09-22T13:57:26.748969Z"
    }
   },
   "outputs": [
    {
     "name": "stdout",
     "output_type": "stream",
     "text": [
      "\r",
      "0it [00:00, ?it/s]"
     ]
    },
    {
     "name": "stdout",
     "output_type": "stream",
     "text": [
      "\r",
      "Upgrading database; v0 -> v1: : 0it [00:00, ?it/s]"
     ]
    },
    {
     "name": "stdout",
     "output_type": "stream",
     "text": [
      "\r",
      "Upgrading database; v0 -> v1: : 0it [00:00, ?it/s]"
     ]
    },
    {
     "name": "stdout",
     "output_type": "stream",
     "text": [
      "\n"
     ]
    },
    {
     "name": "stdout",
     "output_type": "stream",
     "text": [
      "\r",
      "  0%|          | 0/1 [00:00<?, ?it/s]"
     ]
    },
    {
     "name": "stdout",
     "output_type": "stream",
     "text": [
      "\r",
      "Upgrading database; v1 -> v2:   0%|          | 0/1 [00:00<?, ?it/s]"
     ]
    },
    {
     "name": "stdout",
     "output_type": "stream",
     "text": [
      "\r",
      "Upgrading database; v1 -> v2: 100%|██████████| 1/1 [00:00<00:00, 349.35it/s]"
     ]
    },
    {
     "name": "stdout",
     "output_type": "stream",
     "text": [
      "\n"
     ]
    },
    {
     "name": "stdout",
     "output_type": "stream",
     "text": [
      "\r",
      "0it [00:00, ?it/s]"
     ]
    },
    {
     "name": "stdout",
     "output_type": "stream",
     "text": [
      "\r",
      "Upgrading database; v2 -> v3: : 0it [00:00, ?it/s]"
     ]
    },
    {
     "name": "stdout",
     "output_type": "stream",
     "text": [
      "\r",
      "Upgrading database; v2 -> v3: : 0it [00:00, ?it/s]"
     ]
    },
    {
     "name": "stdout",
     "output_type": "stream",
     "text": [
      "\n"
     ]
    },
    {
     "name": "stdout",
     "output_type": "stream",
     "text": [
      "\r",
      "0it [00:00, ?it/s]"
     ]
    },
    {
     "name": "stdout",
     "output_type": "stream",
     "text": [
      "\r",
      "Upgrading database; v3 -> v4: : 0it [00:00, ?it/s]"
     ]
    },
    {
     "name": "stdout",
     "output_type": "stream",
     "text": [
      "\r",
      "Upgrading database; v3 -> v4: : 0it [00:00, ?it/s]"
     ]
    },
    {
     "name": "stdout",
     "output_type": "stream",
     "text": [
      "\n"
     ]
    },
    {
     "name": "stdout",
     "output_type": "stream",
     "text": [
      "\r",
      "  0%|          | 0/1 [00:00<?, ?it/s]"
     ]
    },
    {
     "name": "stdout",
     "output_type": "stream",
     "text": [
      "\r",
      "Upgrading database; v4 -> v5:   0%|          | 0/1 [00:00<?, ?it/s]"
     ]
    },
    {
     "name": "stdout",
     "output_type": "stream",
     "text": [
      "\r",
      "Upgrading database; v4 -> v5: 100%|██████████| 1/1 [00:00<00:00, 450.76it/s]"
     ]
    },
    {
     "name": "stdout",
     "output_type": "stream",
     "text": [
      "\n"
     ]
    },
    {
     "name": "stdout",
     "output_type": "stream",
     "text": [
      "\r",
      "0it [00:00, ?it/s]"
     ]
    },
    {
     "name": "stdout",
     "output_type": "stream",
     "text": [
      "\r",
      "Upgrading database; v5 -> v6: : 0it [00:00, ?it/s]"
     ]
    },
    {
     "name": "stdout",
     "output_type": "stream",
     "text": [
      "\r",
      "Upgrading database; v5 -> v6: : 0it [00:00, ?it/s]"
     ]
    },
    {
     "name": "stdout",
     "output_type": "stream",
     "text": [
      "\n"
     ]
    },
    {
     "name": "stdout",
     "output_type": "stream",
     "text": [
      "\r",
      "  0%|          | 0/1 [00:00<?, ?it/s]"
     ]
    },
    {
     "name": "stdout",
     "output_type": "stream",
     "text": [
      "\r",
      "Upgrading database; v6 -> v7:   0%|          | 0/1 [00:00<?, ?it/s]"
     ]
    },
    {
     "name": "stdout",
     "output_type": "stream",
     "text": [
      "\r",
      "Upgrading database; v6 -> v7: 100%|██████████| 1/1 [00:00<00:00, 246.88it/s]"
     ]
    },
    {
     "name": "stdout",
     "output_type": "stream",
     "text": [
      "\n"
     ]
    },
    {
     "name": "stdout",
     "output_type": "stream",
     "text": [
      "\r",
      "  0%|          | 0/1 [00:00<?, ?it/s]"
     ]
    },
    {
     "name": "stdout",
     "output_type": "stream",
     "text": [
      "\r",
      "Upgrading database; v7 -> v8:   0%|          | 0/1 [00:00<?, ?it/s]"
     ]
    },
    {
     "name": "stdout",
     "output_type": "stream",
     "text": [
      "\r",
      "Upgrading database; v7 -> v8: 100%|██████████| 1/1 [00:00<00:00, 401.79it/s]"
     ]
    },
    {
     "name": "stdout",
     "output_type": "stream",
     "text": [
      "\n"
     ]
    },
    {
     "name": "stdout",
     "output_type": "stream",
     "text": [
      "\r",
      "  0%|          | 0/1 [00:00<?, ?it/s]"
     ]
    },
    {
     "name": "stdout",
     "output_type": "stream",
     "text": [
      "\r",
      "Upgrading database; v8 -> v9:   0%|          | 0/1 [00:00<?, ?it/s]"
     ]
    },
    {
     "name": "stdout",
     "output_type": "stream",
     "text": [
      "\r",
      "Upgrading database; v8 -> v9: 100%|██████████| 1/1 [00:00<00:00, 977.69it/s]"
     ]
    },
    {
     "name": "stdout",
     "output_type": "stream",
     "text": [
      "\n"
     ]
    }
   ],
   "source": [
    "initialise_database()\n",
    "exp = load_or_create_experiment(experiment_name='tutorial_exp', sample_name=\"no sample\")"
   ]
  },
  {
   "cell_type": "markdown",
   "metadata": {},
   "source": [
    "Here, we define a simple function to benchmark the time it takes to insert n points with either numeric or array data type.\n",
    "We will compare both the time used to call ``add_result`` and the time used for the full measurement."
   ]
  },
  {
   "cell_type": "code",
   "execution_count": 4,
   "metadata": {
    "execution": {
     "iopub.execute_input": "2021-09-22T13:57:26.759783Z",
     "iopub.status.busy": "2021-09-22T13:57:26.759157Z",
     "iopub.status.idle": "2021-09-22T13:57:26.761247Z",
     "shell.execute_reply": "2021-09-22T13:57:26.760503Z"
    }
   },
   "outputs": [],
   "source": [
    "def insert_data(paramtype, npoints, nreps=1):\n",
    "\n",
    "    meas = Measurement(exp=exp)\n",
    "\n",
    "    x1 = ManualParameter('x1')\n",
    "    x2 = ManualParameter('x2')\n",
    "    x3 = ManualParameter('x3')\n",
    "    y1 = ManualParameter('y1')\n",
    "    y2 = ManualParameter('y2')\n",
    "\n",
    "    meas.register_parameter(x1, paramtype=paramtype)\n",
    "    meas.register_parameter(x2, paramtype=paramtype)\n",
    "    meas.register_parameter(x3, paramtype=paramtype)\n",
    "    meas.register_parameter(y1, setpoints=[x1, x2, x3],\n",
    "                            paramtype=paramtype)\n",
    "    meas.register_parameter(y2, setpoints=[x1, x2, x3],\n",
    "                            paramtype=paramtype)\n",
    "    start = time.perf_counter()\n",
    "    with meas.run() as datasaver:\n",
    "        start_adding = time.perf_counter()\n",
    "        for i in range(nreps):\n",
    "            datasaver.add_result((x1, np.random.rand(npoints)),\n",
    "                                 (x2, np.random.rand(npoints)),\n",
    "                                 (x3, np.random.rand(npoints)),\n",
    "                                 (y1, np.random.rand(npoints)),\n",
    "                                 (y2, np.random.rand(npoints)))\n",
    "        stop_adding = time.perf_counter()\n",
    "        run_id = datasaver.run_id\n",
    "    stop = time.perf_counter()\n",
    "    tot_time = stop - start\n",
    "    add_time = stop_adding - start_adding\n",
    "    return tot_time, add_time, run_id"
   ]
  },
  {
   "cell_type": "markdown",
   "metadata": {},
   "source": [
    "## Comparison between numeric/array data and binary blob"
   ]
  },
  {
   "cell_type": "markdown",
   "metadata": {},
   "source": [
    "### Case1: Short experiment time"
   ]
  },
  {
   "cell_type": "code",
   "execution_count": 5,
   "metadata": {
    "execution": {
     "iopub.execute_input": "2021-09-22T13:57:26.769580Z",
     "iopub.status.busy": "2021-09-22T13:57:26.763813Z",
     "iopub.status.idle": "2021-09-22T13:57:27.564807Z",
     "shell.execute_reply": "2021-09-22T13:57:27.564304Z"
    }
   },
   "outputs": [
    {
     "name": "stdout",
     "output_type": "stream",
     "text": [
      "Starting experimental run with id: 1. \n",
      "Starting experimental run with id: 2. \n",
      "Starting experimental run with id: 3. \n",
      "Starting experimental run with id: 4. \n"
     ]
    },
    {
     "name": "stdout",
     "output_type": "stream",
     "text": [
      "Starting experimental run with id: 5. \n"
     ]
    },
    {
     "name": "stdout",
     "output_type": "stream",
     "text": [
      "Starting experimental run with id: 6. \n"
     ]
    },
    {
     "name": "stdout",
     "output_type": "stream",
     "text": [
      "Starting experimental run with id: 7. \n"
     ]
    },
    {
     "name": "stdout",
     "output_type": "stream",
     "text": [
      "Starting experimental run with id: 8. \n",
      "Starting experimental run with id: 9. \n"
     ]
    },
    {
     "name": "stdout",
     "output_type": "stream",
     "text": [
      "Starting experimental run with id: 10. \n",
      "Starting experimental run with id: 11. \n"
     ]
    },
    {
     "name": "stdout",
     "output_type": "stream",
     "text": [
      "Starting experimental run with id: 12. \n",
      "Starting experimental run with id: 13. \n"
     ]
    },
    {
     "name": "stdout",
     "output_type": "stream",
     "text": [
      "Starting experimental run with id: 14. \n"
     ]
    }
   ],
   "source": [
    "sizes = [1,500,1000,2000,3000,4000,5000]\n",
    "t_numeric = []\n",
    "t_numeric_add = []\n",
    "t_array = []\n",
    "t_array_add = []\n",
    "for size in sizes:\n",
    "    tn, tna, run_id_n =  insert_data('numeric', size)\n",
    "    t_numeric.append(tn)\n",
    "    t_numeric_add.append(tna)\n",
    "\n",
    "    ta, taa, run_id_a =  insert_data('array', size)\n",
    "    t_array.append(ta)\n",
    "    t_array_add.append(taa)"
   ]
  },
  {
   "cell_type": "code",
   "execution_count": 6,
   "metadata": {
    "execution": {
     "iopub.execute_input": "2021-09-22T13:57:27.584415Z",
     "iopub.status.busy": "2021-09-22T13:57:27.583838Z",
     "iopub.status.idle": "2021-09-22T13:57:27.875602Z",
     "shell.execute_reply": "2021-09-22T13:57:27.875105Z"
    }
   },
   "outputs": [
    {
     "data": {
      "image/png": "[encoded data removed]",
      "text/plain": [
       "<Figure size 432x288 with 1 Axes>"
      ]
     },
     "metadata": {
      "needs_background": "light"
     },
     "output_type": "display_data"
    }
   ],
   "source": [
    "fig, ax = plt.subplots(1,1)\n",
    "ax.plot(sizes, t_numeric, 'o-', label='Inserting row-by-row')\n",
    "ax.plot(sizes, t_numeric_add, 'o-', label='Inserting row-by-row: add_result only')\n",
    "ax.plot(sizes, t_array, 'd-', label='Inserting as binary blob')\n",
    "ax.plot(sizes, t_array_add, 'd-', label='Inserting as binary blob: add_result only')\n",
    "ax.legend()\n",
    "ax.set_xlabel('Array length')\n",
    "ax.set_ylabel('Time (s)')\n",
    "fig.tight_layout()"
   ]
  },
  {
   "cell_type": "markdown",
   "metadata": {},
   "source": [
    "As shown in the latter figure, the time to setup and and close the experiment is approximately 0.4 sec. In case of small array sizes, the difference between inserting values of data as arrays and inserting them row-by-row is relatively unimportant. At larger array sizes, i.e. above 10000 points, the cost of writing data as individual datapoints starts to become important.\n"
   ]
  },
  {
   "cell_type": "markdown",
   "metadata": {},
   "source": [
    "### Case2: Long experiment time "
   ]
  },
  {
   "cell_type": "code",
   "execution_count": 7,
   "metadata": {
    "execution": {
     "iopub.execute_input": "2021-09-22T13:57:27.884262Z",
     "iopub.status.busy": "2021-09-22T13:57:27.883679Z",
     "iopub.status.idle": "2021-09-22T13:58:24.325561Z",
     "shell.execute_reply": "2021-09-22T13:58:24.324565Z"
    }
   },
   "outputs": [
    {
     "name": "stdout",
     "output_type": "stream",
     "text": [
      "Starting experimental run with id: 15. \n",
      "Starting experimental run with id: 16. \n",
      "Starting experimental run with id: 17. \n"
     ]
    },
    {
     "name": "stdout",
     "output_type": "stream",
     "text": [
      "Starting experimental run with id: 18. \n",
      "Starting experimental run with id: 19. \n"
     ]
    },
    {
     "name": "stdout",
     "output_type": "stream",
     "text": [
      "Starting experimental run with id: 20. \n",
      "Starting experimental run with id: 21. \n"
     ]
    },
    {
     "name": "stdout",
     "output_type": "stream",
     "text": [
      "Starting experimental run with id: 22. \n"
     ]
    },
    {
     "name": "stdout",
     "output_type": "stream",
     "text": [
      "Starting experimental run with id: 23. \n"
     ]
    },
    {
     "name": "stdout",
     "output_type": "stream",
     "text": [
      "Starting experimental run with id: 24. \n"
     ]
    },
    {
     "name": "stdout",
     "output_type": "stream",
     "text": [
      "Starting experimental run with id: 25. \n"
     ]
    },
    {
     "name": "stdout",
     "output_type": "stream",
     "text": [
      "Starting experimental run with id: 26. \n"
     ]
    },
    {
     "name": "stdout",
     "output_type": "stream",
     "text": [
      "Starting experimental run with id: 27. \n"
     ]
    },
    {
     "name": "stdout",
     "output_type": "stream",
     "text": [
      "Starting experimental run with id: 28. \n"
     ]
    }
   ],
   "source": [
    "sizes = [1,500,1000,2000,3000,4000,5000]\n",
    "nreps = 100\n",
    "t_numeric = []\n",
    "t_numeric_add = []\n",
    "t_numeric_run_ids = []\n",
    "t_array = []\n",
    "t_array_add = []\n",
    "t_array_run_ids = []\n",
    "for size in sizes:\n",
    "    tn, tna, run_id_n =  insert_data('numeric', size, nreps=nreps)\n",
    "    t_numeric.append(tn)\n",
    "    t_numeric_add.append(tna)\n",
    "    t_numeric_run_ids.append(run_id_n)\n",
    "\n",
    "    ta, taa, run_id_a =  insert_data('array', size, nreps=nreps)\n",
    "    t_array.append(ta)\n",
    "    t_array_add.append(taa)\n",
    "    t_array_run_ids.append(run_id_a)"
   ]
  },
  {
   "cell_type": "code",
   "execution_count": 8,
   "metadata": {
    "execution": {
     "iopub.execute_input": "2021-09-22T13:58:24.366561Z",
     "iopub.status.busy": "2021-09-22T13:58:24.365468Z",
     "iopub.status.idle": "2021-09-22T13:58:24.540294Z",
     "shell.execute_reply": "2021-09-22T13:58:24.539785Z"
    },
    "scrolled": true
   },
   "outputs": [
    {
     "data": {
      "image/png": "[encoded data removed]",
      "text/plain": [
       "<Figure size 432x288 with 1 Axes>"
      ]
     },
     "metadata": {
      "needs_background": "light"
     },
     "output_type": "display_data"
    }
   ],
   "source": [
    "fig, ax = plt.subplots(1,1)\n",
    "ax.plot(sizes, t_numeric, 'o-', label='Inserting row-by-row')\n",
    "ax.plot(sizes, t_numeric_add, 'o-', label='Inserting row-by-row: add_result only')\n",
    "ax.plot(sizes, t_array, 'd-', label='Inserting as binary blob')\n",
    "ax.plot(sizes, t_array_add, 'd-', label='Inserting as binary blob: add_result only')\n",
    "ax.legend()\n",
    "ax.set_xlabel('Array length')\n",
    "ax.set_ylabel('Time (s)')\n",
    "fig.tight_layout()"
   ]
  },
  {
   "cell_type": "markdown",
   "metadata": {},
   "source": [
    "However, as we increase the length of the experiment, as seen here by repeating the insertion 100 times, we see a big difference between inserting values of the data row-by-row and inserting it as a binary blob."
   ]
  },
  {
   "cell_type": "markdown",
   "metadata": {},
   "source": [
    "## Loading the data "
   ]
  },
  {
   "cell_type": "code",
   "execution_count": 9,
   "metadata": {
    "execution": {
     "iopub.execute_input": "2021-09-22T13:58:24.545601Z",
     "iopub.status.busy": "2021-09-22T13:58:24.545056Z",
     "iopub.status.idle": "2021-09-22T13:58:24.548126Z",
     "shell.execute_reply": "2021-09-22T13:58:24.548574Z"
    }
   },
   "outputs": [],
   "source": [
    "from qcodes.dataset.data_set import load_by_id"
   ]
  },
  {
   "cell_type": "markdown",
   "metadata": {},
   "source": [
    "As usual you can load the data by using the ``load_by_id`` function but you will notice that the different storage methods\n",
    "are reflected in shape of the data as it is retrieved. "
   ]
  },
  {
   "cell_type": "code",
   "execution_count": 10,
   "metadata": {
    "execution": {
     "iopub.execute_input": "2021-09-22T13:58:24.553447Z",
     "iopub.status.busy": "2021-09-22T13:58:24.552611Z",
     "iopub.status.idle": "2021-09-22T13:58:24.556355Z",
     "shell.execute_reply": "2021-09-22T13:58:24.555890Z"
    }
   },
   "outputs": [],
   "source": [
    "run_id_n = t_numeric_run_ids[0]\n",
    "run_id_a = t_array_run_ids[0]"
   ]
  },
  {
   "cell_type": "code",
   "execution_count": 11,
   "metadata": {
    "execution": {
     "iopub.execute_input": "2021-09-22T13:58:24.560590Z",
     "iopub.status.busy": "2021-09-22T13:58:24.560060Z",
     "iopub.status.idle": "2021-09-22T13:58:24.572951Z",
     "shell.execute_reply": "2021-09-22T13:58:24.572447Z"
    },
    "scrolled": true
   },
   "outputs": [
    {
     "data": {
      "text/plain": [
       "{'x1': {'x1': array([0.19383066, 0.19383066, 0.99846318, 0.99846318, 0.63003409,\n",
       "         0.63003409, 0.7287298 , 0.7287298 , 0.29422399, 0.29422399,\n",
       "         0.9276202 , 0.9276202 , 0.80761675, 0.80761675, 0.72422458,\n",
       "         0.72422458, 0.61858884, 0.61858884, 0.98602773, 0.98602773,\n",
       "         0.75159036, 0.75159036, 0.2583072 , 0.2583072 , 0.05854336,\n",
       "         0.05854336, 0.88401995, 0.88401995, 0.52723329, 0.52723329,\n",
       "         0.84986848, 0.84986848, 0.03084172, 0.03084172, 0.73561549,\n",
       "         0.73561549, 0.18929529, 0.18929529, 0.02014309, 0.02014309,\n",
       "         0.30964388, 0.30964388, 0.2133154 , 0.2133154 , 0.45203456,\n",
       "         0.45203456, 0.05509728, 0.05509728, 0.58344455, 0.58344455,\n",
       "         0.70342438, 0.70342438, 0.20644671, 0.20644671, 0.34658206,\n",
       "         0.34658206, 0.07054298, 0.07054298, 0.39845905, 0.39845905,\n",
       "         0.78515835, 0.78515835, 0.82795713, 0.82795713, 0.90265218,\n",
       "         0.90265218, 0.95701724, 0.95701724, 0.25613085, 0.25613085,\n",
       "         0.0933874 , 0.0933874 , 0.67329514, 0.67329514, 0.65561437,\n",
       "         0.65561437, 0.96851428, 0.96851428, 0.7623163 , 0.7623163 ,\n",
       "         0.01714857, 0.01714857, 0.3518465 , 0.3518465 , 0.71821055,\n",
       "         0.71821055, 0.7068031 , 0.7068031 , 0.35251622, 0.35251622,\n",
       "         0.32965817, 0.32965817, 0.12672945, 0.12672945, 0.84685897,\n",
       "         0.84685897, 0.35453577, 0.35453577, 0.515493  , 0.515493  ,\n",
       "         0.26267645, 0.26267645, 0.94923663, 0.94923663, 0.14434025,\n",
       "         0.14434025, 0.57487911, 0.57487911, 0.25001498, 0.25001498,\n",
       "         0.4111519 , 0.4111519 , 0.1398101 , 0.1398101 , 0.76373451,\n",
       "         0.76373451, 0.83400071, 0.83400071, 0.92192762, 0.92192762,\n",
       "         0.68812997, 0.68812997, 0.99407451, 0.99407451, 0.24539921,\n",
       "         0.24539921, 0.82188301, 0.82188301, 0.01628045, 0.01628045,\n",
       "         0.77177325, 0.77177325, 0.02140609, 0.02140609, 0.25889279,\n",
       "         0.25889279, 0.49949343, 0.49949343, 0.26050688, 0.26050688,\n",
       "         0.47915787, 0.47915787, 0.59062761, 0.59062761, 0.88436774,\n",
       "         0.88436774, 0.25532397, 0.25532397, 0.8956898 , 0.8956898 ,\n",
       "         0.94785752, 0.94785752, 0.92433003, 0.92433003, 0.36142832,\n",
       "         0.36142832, 0.84168409, 0.84168409, 0.03226737, 0.03226737,\n",
       "         0.92867414, 0.92867414, 0.39257044, 0.39257044, 0.31373354,\n",
       "         0.31373354, 0.34558506, 0.34558506, 0.4372268 , 0.4372268 ,\n",
       "         0.51901967, 0.51901967, 0.1570778 , 0.1570778 , 0.80919345,\n",
       "         0.80919345, 0.21961999, 0.21961999, 0.7112863 , 0.7112863 ,\n",
       "         0.62855121, 0.62855121, 0.05815459, 0.05815459, 0.17860038,\n",
       "         0.17860038, 0.0137579 , 0.0137579 , 0.25620177, 0.25620177,\n",
       "         0.38208608, 0.38208608, 0.82182027, 0.82182027, 0.06794775,\n",
       "         0.06794775, 0.68055003, 0.68055003, 0.03664035, 0.03664035])}}"
      ]
     },
     "execution_count": 11,
     "metadata": {},
     "output_type": "execute_result"
    }
   ],
   "source": [
    "ds = load_by_id(run_id_n)\n",
    "ds.get_parameter_data('x1')"
   ]
  },
  {
   "cell_type": "markdown",
   "metadata": {},
   "source": [
    "And a dataset stored as binary arrays"
   ]
  },
  {
   "cell_type": "code",
   "execution_count": 12,
   "metadata": {
    "execution": {
     "iopub.execute_input": "2021-09-22T13:58:24.577433Z",
     "iopub.status.busy": "2021-09-22T13:58:24.575733Z",
     "iopub.status.idle": "2021-09-22T13:58:24.628447Z",
     "shell.execute_reply": "2021-09-22T13:58:24.627950Z"
    },
    "scrolled": true
   },
   "outputs": [
    {
     "data": {
      "text/plain": [
       "{'x1': {'x1': array([[0.73275804],\n",
       "         [0.73275804],\n",
       "         [0.0888885 ],\n",
       "         [0.0888885 ],\n",
       "         [0.19119867],\n",
       "         [0.19119867],\n",
       "         [0.39453738],\n",
       "         [0.39453738],\n",
       "         [0.67133847],\n",
       "         [0.67133847],\n",
       "         [0.56099326],\n",
       "         [0.56099326],\n",
       "         [0.24996701],\n",
       "         [0.24996701],\n",
       "         [0.29247808],\n",
       "         [0.29247808],\n",
       "         [0.69902791],\n",
       "         [0.69902791],\n",
       "         [0.05673413],\n",
       "         [0.05673413],\n",
       "         [0.4983915 ],\n",
       "         [0.4983915 ],\n",
       "         [0.50342941],\n",
       "         [0.50342941],\n",
       "         [0.23624139],\n",
       "         [0.23624139],\n",
       "         [0.07415701],\n",
       "         [0.07415701],\n",
       "         [0.5775102 ],\n",
       "         [0.5775102 ],\n",
       "         [0.55893448],\n",
       "         [0.55893448],\n",
       "         [0.00657298],\n",
       "         [0.00657298],\n",
       "         [0.04192035],\n",
       "         [0.04192035],\n",
       "         [0.90590697],\n",
       "         [0.90590697],\n",
       "         [0.10691015],\n",
       "         [0.10691015],\n",
       "         [0.26140783],\n",
       "         [0.26140783],\n",
       "         [0.29621322],\n",
       "         [0.29621322],\n",
       "         [0.29797425],\n",
       "         [0.29797425],\n",
       "         [0.07500619],\n",
       "         [0.07500619],\n",
       "         [0.5601979 ],\n",
       "         [0.5601979 ],\n",
       "         [0.42815534],\n",
       "         [0.42815534],\n",
       "         [0.53620558],\n",
       "         [0.53620558],\n",
       "         [0.91602491],\n",
       "         [0.91602491],\n",
       "         [0.68253164],\n",
       "         [0.68253164],\n",
       "         [0.94202193],\n",
       "         [0.94202193],\n",
       "         [0.96246718],\n",
       "         [0.96246718],\n",
       "         [0.86581254],\n",
       "         [0.86581254],\n",
       "         [0.92153695],\n",
       "         [0.92153695],\n",
       "         [0.45364222],\n",
       "         [0.45364222],\n",
       "         [0.91198077],\n",
       "         [0.91198077],\n",
       "         [0.11236674],\n",
       "         [0.11236674],\n",
       "         [0.51380038],\n",
       "         [0.51380038],\n",
       "         [0.14827872],\n",
       "         [0.14827872],\n",
       "         [0.39447242],\n",
       "         [0.39447242],\n",
       "         [0.66693547],\n",
       "         [0.66693547],\n",
       "         [0.88339898],\n",
       "         [0.88339898],\n",
       "         [0.54762466],\n",
       "         [0.54762466],\n",
       "         [0.07753094],\n",
       "         [0.07753094],\n",
       "         [0.16137926],\n",
       "         [0.16137926],\n",
       "         [0.92132592],\n",
       "         [0.92132592],\n",
       "         [0.88761763],\n",
       "         [0.88761763],\n",
       "         [0.65801228],\n",
       "         [0.65801228],\n",
       "         [0.4749935 ],\n",
       "         [0.4749935 ],\n",
       "         [0.55289817],\n",
       "         [0.55289817],\n",
       "         [0.0555516 ],\n",
       "         [0.0555516 ],\n",
       "         [0.75543289],\n",
       "         [0.75543289],\n",
       "         [0.08285244],\n",
       "         [0.08285244],\n",
       "         [0.78460837],\n",
       "         [0.78460837],\n",
       "         [0.48848907],\n",
       "         [0.48848907],\n",
       "         [0.31160639],\n",
       "         [0.31160639],\n",
       "         [0.78951615],\n",
       "         [0.78951615],\n",
       "         [0.04858031],\n",
       "         [0.04858031],\n",
       "         [0.43701337],\n",
       "         [0.43701337],\n",
       "         [0.63745564],\n",
       "         [0.63745564],\n",
       "         [0.33025519],\n",
       "         [0.33025519],\n",
       "         [0.95636058],\n",
       "         [0.95636058],\n",
       "         [0.70819162],\n",
       "         [0.70819162],\n",
       "         [0.13084023],\n",
       "         [0.13084023],\n",
       "         [0.07113064],\n",
       "         [0.07113064],\n",
       "         [0.71199329],\n",
       "         [0.71199329],\n",
       "         [0.23633502],\n",
       "         [0.23633502],\n",
       "         [0.94731515],\n",
       "         [0.94731515],\n",
       "         [0.49355463],\n",
       "         [0.49355463],\n",
       "         [0.67722527],\n",
       "         [0.67722527],\n",
       "         [0.8151918 ],\n",
       "         [0.8151918 ],\n",
       "         [0.51310546],\n",
       "         [0.51310546],\n",
       "         [0.61239283],\n",
       "         [0.61239283],\n",
       "         [0.74521194],\n",
       "         [0.74521194],\n",
       "         [0.95532689],\n",
       "         [0.95532689],\n",
       "         [0.47837469],\n",
       "         [0.47837469],\n",
       "         [0.50111312],\n",
       "         [0.50111312],\n",
       "         [0.3184465 ],\n",
       "         [0.3184465 ],\n",
       "         [0.59842003],\n",
       "         [0.59842003],\n",
       "         [0.04967338],\n",
       "         [0.04967338],\n",
       "         [0.47867613],\n",
       "         [0.47867613],\n",
       "         [0.00423546],\n",
       "         [0.00423546],\n",
       "         [0.62617881],\n",
       "         [0.62617881],\n",
       "         [0.14947983],\n",
       "         [0.14947983],\n",
       "         [0.29353682],\n",
       "         [0.29353682],\n",
       "         [0.53820844],\n",
       "         [0.53820844],\n",
       "         [0.13924385],\n",
       "         [0.13924385],\n",
       "         [0.66545632],\n",
       "         [0.66545632],\n",
       "         [0.30658948],\n",
       "         [0.30658948],\n",
       "         [0.05420124],\n",
       "         [0.05420124],\n",
       "         [0.03327469],\n",
       "         [0.03327469],\n",
       "         [0.63313412],\n",
       "         [0.63313412],\n",
       "         [0.25969169],\n",
       "         [0.25969169],\n",
       "         [0.98717925],\n",
       "         [0.98717925],\n",
       "         [0.70371044],\n",
       "         [0.70371044],\n",
       "         [0.13437561],\n",
       "         [0.13437561],\n",
       "         [0.0925792 ],\n",
       "         [0.0925792 ],\n",
       "         [0.59654857],\n",
       "         [0.59654857],\n",
       "         [0.56208927],\n",
       "         [0.56208927],\n",
       "         [0.6233529 ],\n",
       "         [0.6233529 ],\n",
       "         [0.67751077],\n",
       "         [0.67751077]])}}"
      ]
     },
     "execution_count": 12,
     "metadata": {},
     "output_type": "execute_result"
    }
   ],
   "source": [
    "ds = load_by_id(run_id_a)\n",
    "ds.get_parameter_data('x1')"
   ]
  },
  {
   "cell_type": "code",
   "execution_count": null,
   "metadata": {},
   "outputs": [],
   "source": []
  }
 ],
 "metadata": {
  "kernelspec": {
   "display_name": "Python 3",
   "language": "python",
   "name": "python3"
  },
  "language_info": {
   "codemirror_mode": {
    "name": "ipython",
    "version": 3
   },
   "file_extension": ".py",
   "mimetype": "text/x-python",
   "name": "python",
   "nbconvert_exporter": "python",
   "pygments_lexer": "ipython3",
   "version": "3.7.12"
  },
  "nbsphinx": {
   "timeout": 600
  },
  "toc": {
   "base_numbering": 1,
   "nav_menu": {},
   "number_sections": true,
   "sideBar": true,
   "skip_h1_title": false,
   "title_cell": "Table of Contents",
   "title_sidebar": "Contents",
   "toc_cell": false,
   "toc_position": {},
   "toc_section_display": true,
   "toc_window_display": false
  },
  "varInspector": {
   "cols": {
    "lenName": 16,
    "lenType": 16,
    "lenVar": 40
   },
   "kernels_config": {
    "python": {
     "delete_cmd_postfix": "",
     "delete_cmd_prefix": "del ",
     "library": "var_list.py",
     "varRefreshCmd": "print(var_dic_list())"
    },
    "r": {
     "delete_cmd_postfix": ") ",
     "delete_cmd_prefix": "rm(",
     "library": "var_list.r",
     "varRefreshCmd": "cat(var_dic_list()) "
    }
   },
   "types_to_exclude": [
    "module",
    "function",
    "builtin_function_or_method",
    "instance",
    "_Feature"
   ],
   "window_display": false
  }
 },
 "nbformat": 4,
 "nbformat_minor": 4
}
